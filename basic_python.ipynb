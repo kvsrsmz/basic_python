{
  "nbformat": 4,
  "nbformat_minor": 0,
  "metadata": {
    "colab": {
      "provenance": []
    },
    "kernelspec": {
      "name": "python3",
      "display_name": "Python 3"
    },
    "language_info": {
      "name": "python"
    }
  },
  "cells": [
    {
      "cell_type": "markdown",
      "source": [
        "🔹 1. Asal Sayı Kontrolü\n",
        "\n",
        "Bir sayının asal sayı olup olmadığını kontrol eden bir Python fonksiyonu yazın.\n",
        "\n",
        "✅ Kurallar:\n",
        "\n",
        "-Asal sayı, sadece kendisine ve 1’e bölünebilen 1’den büyük pozitif sayılardır.\n",
        "\n",
        "-Fonksiyon, kullanıcıdan bir sayı almalı ve asal olup olmadığını kontrol etmelidir.\n",
        "\n",
        "🎯 Örnek Kullanım:\n",
        "\n",
        "asal_mi(7)  # Çıktı: 7 bir asal sayıdır.\n",
        "\n",
        "asal_mi(10) # Çıktı: 10 bir asal sayı değildir.\n",
        "\n"
      ],
      "metadata": {
        "id": "tFldtEz8e2h-"
      }
    },
    {
      "cell_type": "code",
      "execution_count": 1,
      "metadata": {
        "colab": {
          "base_uri": "https://localhost:8080/"
        },
        "id": "admzDJ7nemsl",
        "outputId": "4978ff41-bd9c-4777-8a18-5ed9969b0f19"
      },
      "outputs": [
        {
          "output_type": "stream",
          "name": "stdout",
          "text": [
            "23 sayısı asaldır\n"
          ]
        }
      ],
      "source": [
        "def asalSayiBul(sayi):\n",
        "\n",
        "    if sayi<2:\n",
        "        return f\"{sayi} sayısı asal değildir\"\n",
        "    else:\n",
        "        for i in range(2,sayi):\n",
        "            if sayi%i==0:\n",
        "                return f\"{sayi} sayısı asal değildir\"\n",
        "        return f\"{sayi} sayısı asaldır\"\n",
        "\n",
        "print(asalSayiBul(23))"
      ]
    },
    {
      "cell_type": "markdown",
      "source": [
        "🔹 2. Basit Hesap Makinesi\n",
        "\n",
        "Kullanıcıdan iki sayı ve bir işlem türü alarak sonucu döndüren bir fonksiyon yazın.\n",
        "\n",
        "✅ Kurallar:\n",
        "\n",
        "-Kullanıcı +, -, *, / işlemlerinden birini seçmelidir.\n",
        "\n",
        "-Bölme işleminde, ikinci sayı 0 olursa \"Bölme işlemi için ikinci sayı 0 olamaz!\" şeklinde uyarı verin.\n",
        "\n",
        "-Kullanıcı geçersiz bir işlem girerse, \"Geçersiz işlem türü!\" mesajı gösterin.\n",
        "\n",
        "🎯Örnek Kullanım:\n",
        "\n",
        "hesap_makinesi(5, 3, '+')  # Çıktı: 5 + 3 = 8\n",
        "\n",
        "hesap_makinesi(10, 2, '/')  # Çıktı: 10 / 2 = 5.0\n",
        "\n",
        "hesap_makinesi(4, 0, '/')   # Çıktı: Bölme işlemi için ikinci sayı 0 olamaz!\n",
        "\n",
        "hesap_makinesi(6, 2, '%')   # Çıktı: Geçersiz işlem türü!\n",
        "\n"
      ],
      "metadata": {
        "id": "Bjrqegawe153"
      }
    },
    {
      "cell_type": "code",
      "source": [
        "def hesap_makinesi(sayi1,sayi2,islem):\n",
        "\n",
        "    if islem == \"+\":\n",
        "        return f\"{sayi1} + {sayi2} = {sayi1+sayi2}\"\n",
        "    if islem == \"-\":\n",
        "         return f\"{sayi1} - {sayi2} = {sayi1-sayi2}\"\n",
        "    if islem == \"*\":\n",
        "         return f\"{sayi1} - {sayi2} = {sayi1-sayi2}\"\n",
        "    if islem == \"/\":\n",
        "        if sayi2 == 0:\n",
        "            return \"Bölme işlemi için ikinci sayı 0 olamaz!\"\n",
        "        return f\"{sayi1} / {sayi2} = {sayi1/sayi2}\"\n",
        "    else:\n",
        "        return \"Geçersiz işlem türü!\"\n",
        "\n",
        "sayi1 = float(input(\"Birinci sayıyı girin: \"))\n",
        "sayi2 = float(input(\"İkinci sayıyı girin: \"))\n",
        "islem = input(\"Yapmak istediğiniz işlemi girin (+, -, *, /): \")\n",
        "\n",
        "\n",
        "print(hesap_makinesi(sayi1, sayi2, islem))\n",
        "\n",
        ""
      ],
      "metadata": {
        "id": "nAAgyYR1fyu3"
      },
      "execution_count": null,
      "outputs": []
    }
  ]
}