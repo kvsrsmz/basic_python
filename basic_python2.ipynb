{
  "nbformat": 4,
  "nbformat_minor": 0,
  "metadata": {
    "colab": {
      "provenance": []
    },
    "kernelspec": {
      "name": "python3",
      "display_name": "Python 3"
    },
    "language_info": {
      "name": "python"
    }
  },
  "cells": [
    {
      "cell_type": "markdown",
      "source": [
        "**🔹Ödev1:Değişkenler ve Veri Tipleri**\n",
        "\n",
        "**✅Konu:** Değişkenler, veri tipleri (int, float, string, boolean), kullanıcıdan veri alma.\n"
      ],
      "metadata": {
        "id": "sFpOM_lSeXCb"
      }
    },
    {
      "cell_type": "markdown",
      "source": [
        "**🎯Görev 1:**\n",
        "\n",
        "Kullanıcıdan adını, yaşını ve doğum yılını alarak ekrana aşağıdaki gibi yazdıran bir Python programı yazın:\n",
        "\n",
        "*Merhaba Ali! 25 yaşındasın ve 1998 yılında doğmuşsun.*"
      ],
      "metadata": {
        "id": "SKV8AcwjepKf"
      }
    },
    {
      "cell_type": "code",
      "source": [
        "def tanisma(name,age,byear):\n",
        "    return f\"Merhaba {name}! {age} yaşındasın ve {byear} yılında doğmuşsun.\"\n",
        "\n",
        "name = input(\"Adınızı Giriniz: \")\n",
        "age = int(input(\"Yaşınızı Giriniz: \"))\n",
        "byear = int(input(\"Doğum Yılınzı Giriniz: \"))\n",
        "\n",
        "print(tanisma(name,age,byear))"
      ],
      "metadata": {
        "id": "6RMOP_woeVBX"
      },
      "execution_count": null,
      "outputs": []
    },
    {
      "cell_type": "markdown",
      "source": [
        "**🎯Görev 2:**\n",
        "\n",
        "Kullanıcıdan iki sayı alarak bu sayıların toplamını, farkını, çarpımını ve bölümünü ekrana yazdırın."
      ],
      "metadata": {
        "id": "AQHmsQSshHkC"
      }
    },
    {
      "cell_type": "code",
      "source": [
        "def hesaplama(sayi1,sayi2):\n",
        "    if sayi2 == 0:\n",
        "        return \"0'a bölemezsiniz.Tekrar deneyiniz\"\n",
        "    return f\"Toplam:{sayi1+sayi2}\\nFark:{sayi1-sayi2}\\nÇarpım:{sayi1*sayi2}\\nBölüm:{sayi1/sayi2}\"\n",
        "\n",
        "sayi1 = int(input(\"İşlem yapmak istediğiniz ilk sayıyı giriniz: \"))\n",
        "sayi2 = int(input(\"İşlem yapmak istediğiniz ikinci sayıyı giriniz: \"))\n",
        "\n",
        "print(hesaplama(sayi1,sayi2))"
      ],
      "metadata": {
        "id": "smA5WACyhTF0"
      },
      "execution_count": null,
      "outputs": []
    },
    {
      "cell_type": "markdown",
      "source": [
        "**🔹Ödev2:Koşullu İfadeler (if-else)**\n",
        "\n",
        "**✅Konu:** Karar yapıları (if-elif-else)."
      ],
      "metadata": {
        "id": "G0cLQmC5hwII"
      }
    },
    {
      "cell_type": "markdown",
      "source": [
        "\n",
        "**🎯Görev 1:**\n",
        "\n",
        "Kullanıcının girdiği bir sayının tek mi çift mi olduğunu bulan bir Python programı yazın."
      ],
      "metadata": {
        "id": "S9mdZ2Ynh4xL"
      }
    },
    {
      "cell_type": "code",
      "source": [
        "def oddOreven(sayi):\n",
        "    if sayi % 2 == 0:\n",
        "        return \"Girdiğiniz sayı ÇİFTTİR!\"\n",
        "    return f\"Girdiğiniz sayı TEKTİR!\"\n",
        "\n",
        "sayi = int(input(\"Bir sayi giriniz: \"))\n",
        "\n",
        "print(oddOreven(sayi))"
      ],
      "metadata": {
        "id": "UKdWXeerjMrk"
      },
      "execution_count": null,
      "outputs": []
    },
    {
      "cell_type": "markdown",
      "source": [
        "**🎯Görev 2:**\n",
        "\n",
        "Kullanıcının notunu alarak aşağıdaki not sistemine göre harf notunu hesaplayın:\n",
        "\n",
        "  90-100 -> A\n",
        "\n",
        "  80-89  -> B\n",
        "\n",
        "  70-79  -> C\n",
        "\n",
        "  60-69  -> D\n",
        "\n",
        "  0-59   -> F\n",
        "\n",
        "\n"
      ],
      "metadata": {
        "id": "tbdvf5bQjRHw"
      }
    },
    {
      "cell_type": "code",
      "source": [
        "def harfNotu(note):\n",
        "    if 90<=note<=100:\n",
        "        return \"Harf Notu: A\"\n",
        "    if 80<=note<=89:\n",
        "        return \"Harf Notu: B\"\n",
        "    if 70<=note<=79:\n",
        "        return \"Harf Notu: C\"\n",
        "    if 60<=note<=69:\n",
        "        return \"Harf Notu: D\"\n",
        "    if 0<=note<=59:\n",
        "        return \"Harf Notu: F\"\n",
        "\n",
        "note = int(input(\"Bir sayi giriniz: \"))\n",
        "\n",
        "print(harfNotu(note))"
      ],
      "metadata": {
        "id": "C550AzyNoBa3"
      },
      "execution_count": null,
      "outputs": []
    },
    {
      "cell_type": "markdown",
      "source": [
        "🎯Görev 3:\n",
        "\n",
        "Kullanıcının yaşına göre hangi yaş grubunda olduğunu bulan bir program yazın:\n",
        "\n",
        "0-12 yaş: Çocuk\n",
        "\n",
        "13-19 yaş: Genç\n",
        "\n",
        "20-59 yaş: Yetişkin\n",
        "\n",
        "60 ve üzeri: Yaşlı\n"
      ],
      "metadata": {
        "id": "Wh_ziGFfoTyJ"
      }
    },
    {
      "cell_type": "code",
      "source": [
        "def yasAraligi(age):\n",
        "    if 0<=age<=12:\n",
        "        return \"Çocuk\"\n",
        "    if 13<=age<=19:\n",
        "        return \"Genç\"\n",
        "    if 20<=age<=59:\n",
        "        return \"Yetişkin\"\n",
        "    if 60<=age:\n",
        "        return \"Yaşlı\"\n",
        "\n",
        "age = int(input(\"Yaş Giriniz:\"))\n",
        "\n",
        "print(yasAraligi(age))"
      ],
      "metadata": {
        "id": "tTzkRxqQpK6l"
      },
      "execution_count": null,
      "outputs": []
    },
    {
      "cell_type": "markdown",
      "source": [
        "**🔹Ödev3:Döngüler (for & while)**\n",
        "\n",
        "**✅Konu:** For ve while döngüleri."
      ],
      "metadata": {
        "id": "bw48Dq3UpUb-"
      }
    },
    {
      "cell_type": "markdown",
      "source": [
        "**🎯Görev 1:**\n",
        "\n",
        "1’den 100’e kadar olan sayıları ekrana yazdırın."
      ],
      "metadata": {
        "id": "ZySLQqnlpf4z"
      }
    },
    {
      "cell_type": "code",
      "source": [
        "def birdenYuze():\n",
        "    for i in range(1,101):\n",
        "        print(i)\n",
        "\n",
        "birdenYuze()"
      ],
      "metadata": {
        "id": "oHtOBP7frtrR"
      },
      "execution_count": null,
      "outputs": []
    },
    {
      "cell_type": "markdown",
      "source": [
        "🎯Görev 2:\n",
        "\n",
        "1’den 100’e kadar sadece çift sayıları ekrana yazdıran bir program yazın."
      ],
      "metadata": {
        "id": "pBvGgO90sHJU"
      }
    },
    {
      "cell_type": "code",
      "source": [
        "def birdenYuze():\n",
        "    for i in range(1,101):\n",
        "        if i % 2 == 0:\n",
        "            print(i)\n",
        "\n",
        "birdenYuze()"
      ],
      "metadata": {
        "id": "QAJRnUm7sduf"
      },
      "execution_count": null,
      "outputs": []
    },
    {
      "cell_type": "markdown",
      "source": [
        "\n",
        "🎯Görev 3:\n",
        "\n",
        "Kullanıcıdan bir sayı alıp, bu sayının faktöriyelini hesaplayan bir program yazın.\n",
        "\n",
        "\n",
        "\n"
      ],
      "metadata": {
        "id": "W670yAS6sjC4"
      }
    },
    {
      "cell_type": "code",
      "source": [
        "def faktoriyel(sayi):\n",
        "    fakt=1\n",
        "    if sayi<0:\n",
        "       return \"Lütfen pozitif bir tam sayı giriniz!\"\n",
        "\n",
        "    for i in range(1,sayi+1):\n",
        "       fakt = fakt *i\n",
        "\n",
        "    return f\"{i}!= {fakt}\"\n",
        "\n",
        "sayi = int(input(\"Bir Sayı Giriniz:\"))\n",
        "print(faktoriyel(sayi))"
      ],
      "metadata": {
        "id": "MZnYnuvav1Kb"
      },
      "execution_count": null,
      "outputs": []
    },
    {
      "cell_type": "markdown",
      "source": [
        "🎯Görev 3:\n",
        "\n",
        "1’den 100’e kadar olan tüm asal sayıları bulan bir program yazın."
      ],
      "metadata": {
        "id": "QflqMlyjHClA"
      }
    },
    {
      "cell_type": "code",
      "source": [
        "def asalSayiBul(sayi):\n",
        "\n",
        "    if sayi<2:\n",
        "        return False\n",
        "    else:\n",
        "        for i in range(2,sayi):\n",
        "            if sayi%i==0:\n",
        "                return False\n",
        "        return True\n",
        "\n",
        "print(\"1'den 100'e kadar olan asal sayılar:\")\n",
        "for sayi in range(2, 101):\n",
        "    if asalSayiBul(sayi):\n",
        "        print(sayi, end=\" \")"
      ],
      "metadata": {
        "id": "P5AOUBBzbSsC"
      },
      "execution_count": null,
      "outputs": []
    },
    {
      "cell_type": "markdown",
      "source": [
        "🔹Ödev4:Listeler ve Tuple'lar\n",
        "\n",
        "✅Konu: Listeler, Tuple'lar, listelerde döngü."
      ],
      "metadata": {
        "id": "iIOsAXUwbcKx"
      }
    },
    {
      "cell_type": "markdown",
      "source": [
        "🎯Görev 1:\n",
        "\n",
        "Kullanıcıdan 5 adet sayı alarak bir listeye ekleyin ve bu listenin toplamını, ortalamasını, en büyük ve en küçük elemanını bulun."
      ],
      "metadata": {
        "id": "nVu5hev7bohB"
      }
    },
    {
      "cell_type": "code",
      "source": [
        "# Kullanıcıdan 5 adet sayı alıp listeye ekleyelim\n",
        "sayilar = []\n",
        "\n",
        "for i in range(5):\n",
        "    sayi = float(input(f\"{i+1}. sayıyı girin: \"))\n",
        "    sayilar.append(sayi)\n",
        "\n",
        "# Liste üzerindeki işlemler\n",
        "toplam = sum(sayilar)\n",
        "ortalama = toplam / len(sayilar)\n",
        "en_buyuk = max(sayilar)\n",
        "en_kucuk = min(sayilar)\n",
        "\n",
        "# Sonuçları ekrana yazdıralım\n",
        "print(\"\\nGirilen sayılar:\", sayilar)\n",
        "print(\"Toplam:\", toplam)\n",
        "print(\"Ortalama:\", ortalama)\n",
        "print(\"En büyük sayı:\", en_buyuk)\n",
        "print(\"En küçük sayı:\", en_kucuk)"
      ],
      "metadata": {
        "id": "IeGc2aQscOsx"
      },
      "execution_count": null,
      "outputs": []
    },
    {
      "cell_type": "markdown",
      "source": [
        "🎯Görev 2:\n",
        "\n",
        "Kullanıcıdan aldığı kelimeleri bir listeye ekleyerek ters sıralayan bir program yazın."
      ],
      "metadata": {
        "id": "fy5YTAracRWi"
      }
    },
    {
      "cell_type": "code",
      "source": [
        "kelimeler = []\n",
        "\n",
        "for i in range(5):\n",
        "    kelime = (input(f\"{i+1}. kelimeyi girin: \"))\n",
        "    kelimeler.append(kelime)\n",
        "\n",
        "def ters_cevir(kelimeler):\n",
        "    kelimeler.reverse()\n",
        "    return kelimeler\n",
        "\n",
        "print(ters_cevir(kelimeler))"
      ],
      "metadata": {
        "id": "S0Z1Q2OocaYX"
      },
      "execution_count": null,
      "outputs": []
    },
    {
      "cell_type": "markdown",
      "source": [
        "🎯Görev 3:\n",
        "\n",
        "Bir liste içindeki tekrar eden elemanları kaldıran bir program yazın."
      ],
      "metadata": {
        "id": "qbbBrlQUdnTz"
      }
    },
    {
      "cell_type": "code",
      "source": [
        "def tekrar_sil(liste):\n",
        "    return list(set(liste))  # Set kullanarak tekrar edenleri kaldır, listeye çevir\n",
        "\n",
        "sayilar = [10, 25, 5, 30, 15, 25, 10, 5]\n",
        "benzersiz_sayilar = tekrar_sil(sayilar)\n",
        "\n",
        "print(\"Orijinal Liste:\", sayilar)\n",
        "print(\"Tekrarsız Liste:\", benzersiz_sayilar)"
      ],
      "metadata": {
        "id": "O_V3YDQxeIJ7"
      },
      "execution_count": null,
      "outputs": []
    },
    {
      "cell_type": "markdown",
      "source": [
        "🔹Ödev5:Fonksiyonlar\n",
        "\n",
        "✅Konu: Listeler, Tuple'lar, listelerde döngü."
      ],
      "metadata": {
        "id": "nhNb8N04eW5E"
      }
    },
    {
      "cell_type": "markdown",
      "source": [
        "🎯Görev 1:\n",
        "\n",
        "Kullanıcının girdiği bir kelimenin palindrom olup olmadığını kontrol eden bir fonksiyon yazın."
      ],
      "metadata": {
        "id": "deR7UsrzekLx"
      }
    },
    {
      "cell_type": "code",
      "source": [
        "kelime = input(\"Kelimeyi girin: \")\n",
        "\n",
        "ters_kelime = ''.join(reversed(kelime))  # reversed() kullanımı\n",
        "\n",
        "if kelime == ters_kelime:\n",
        "    print(f\"{kelime} bir palindromdur\")\n",
        "else:\n",
        "    print(f\"{kelime} bir palindrom değildir\")\n"
      ],
      "metadata": {
        "id": "W8-o9EcWgJ01"
      },
      "execution_count": null,
      "outputs": []
    }
  ]
}